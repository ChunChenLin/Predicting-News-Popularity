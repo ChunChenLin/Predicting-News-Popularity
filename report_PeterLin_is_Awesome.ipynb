{
 "cells": [
  {
   "cell_type": "markdown",
   "metadata": {},
   "source": [
    "<center><h1>Predicting News Popularity</h1></center>\n",
    "<center><h3>PeterLin is Awesome</h3></center>"
   ]
  },
  {
   "cell_type": "markdown",
   "metadata": {},
   "source": [
    "## I. Data Preparing"
   ]
  },
  {
   "cell_type": "markdown",
   "metadata": {},
   "source": [
    "每筆html都能分成三個部分，分別是<font color='red'>head, article, footer</font>。而每個部分都有許多不同的features可以探討，並可以進一步地作為traing features。\n",
    "<img src=\"part.png\" width=\"300\" height=\"300\"/>"
   ]
  },
  {
   "cell_type": "markdown",
   "metadata": {},
   "source": [
    "## II. Features Extraction"
   ]
  },
  {
   "cell_type": "markdown",
   "metadata": {},
   "source": [
    "<table>\n",
    "<center>\n",
    "<tr>\n",
    "    <td><center><strong>#iframe</strong></center></td>\n",
    "    <td><center><font color='red'>動畫</font>或者<font color='red'>影片</font>的數量</center></td>\n",
    "    <td><center>Integer</center></td>\n",
    "</tr>\n",
    "\n",
    "<tr>\n",
    "    <td><center><strong>#img</strong></center></td>\n",
    "    <td><center><font color='red'>圖片</font>的數量</center></td>\n",
    "    <td><center>Integer</center></td>\n",
    "</tr>\n",
    "\n",
    "<tr>\n",
    "    <td><center><strong>#link</strong></center></td>\n",
    "    <td><center><font color='red'>連結</font>的數量</center></td>\n",
    "    <td><center>Integer</center></td>\n",
    "</tr>\n",
    "\n",
    "<tr>\n",
    "    <td><center><strong>#quote</strong></center></td>\n",
    "    <td><center><font color='red'>引用</font>的數量</center></td>\n",
    "    <td><center>Integer</center></td>\n",
    "</tr>\n",
    "\n",
    "<tr>\n",
    "    <td><center><strong>#title digits</strong></center></td>\n",
    "    <td><center><font color='red'>標題中所含數字</font>的個數，含有數字的標題具有吸引讀者的效果</center></td>\n",
    "    <td><center>Integer</center></td>\n",
    "</tr>\n",
    "<tr>\n",
    "    <td><center><strong>#title word</strong></center></td>\n",
    "    <td><center><font color='red'>標題中所含字</font>的個數，簡潔有力的標題具有吸引讀者的效果</center></td>\n",
    "    <td><center>Integer</center></td>\n",
    "</tr>\n",
    "<tr>\n",
    "    <td><center><strong>title_4W1H</strong></center></td>\n",
    "    <td><center>判斷標題中是否含有<font color='red'>What, Which, When, Who, How</font>等疑問句</center></td>\n",
    "    <td><center>Boolean</center></td>\n",
    "</tr>\n",
    "<tr>\n",
    "    <td><center><strong>hot_trend</strong></center></td>\n",
    "    <td><center>判斷標題中是否含有<font color='red'>熱門字</font>，利用2013~2015年的Google Trend關鍵字來判斷</center></td>\n",
    "    <td><center>Boolean</center></td>\n",
    "</tr>\n",
    "<tr>\n",
    "    <td><center><strong>#sub-title</strong></center></td>\n",
    "    <td><center><font color='red'>副標題(h2)</font>的數量，通常也代表<font color='red'>段落(paregraph)</font>的個數</center></td>\n",
    "    <td><center>Integer</center></td>\n",
    "</tr>\n",
    "<tr>\n",
    "    <td><center><strong>#total word</strong></center></td>\n",
    "    <td><center><font color='red'>整篇文章中所含字</font>的個數，比起冗長的文章，簡短的文章更吸引讀者</center></td>\n",
    "    <td><center>Integer</center></td>\n",
    "</tr>\n",
    "<tr>\n",
    "    <td><center><strong>howlong</strong></center></td>\n",
    "    <td><center>文章發佈的時間<font color='red'>距離2013/1/1有多長</font>的時間，通常時間越久，文章的熱門程度相對地比較高</center></td>\n",
    "    <td><center>Integer</center></td>\n",
    "</tr>\n",
    "<tr>\n",
    "    <td><center><strong>is_weekend</strong></center></td>\n",
    "    <td><center>判斷是否為<font color='red'>週末假日</font>週末假日較多的讀者有時間點閱文章，不過有可能假日時間文章數量較平日少</center></td>\n",
    "    <td><center>Boolean</center></td>\n",
    "</tr>\n",
    "<tr>\n",
    "    <td><center><strong>year</strong></center></td>\n",
    "    <td><center>判斷文章是屬於<font color='red'>哪一年份</font>發佈的，經觀察所有的文章介於2013~2015年間</center></td>\n",
    "    <td><center>One Hot</center></td>\n",
    "</tr>\n",
    "<tr>\n",
    "    <td><center><strong>time interval(4hr)</strong></center></td>\n",
    "    <td><center>將一天以4小時分為6個部分，來區分<font color='red'>文章的發佈時間點</font></center></td>\n",
    "    <td><center>One Hot</center></td>\n",
    "</tr>\n",
    "<tr>\n",
    "    <td><center><strong>categories</strong></center></td>\n",
    "    <td><center>利用<font color='red'>data-channel</font>，判斷文章是屬於哪種類型</center></td>\n",
    "    <td><center>One Hot</center></td>\n",
    "</tr>\n",
    "<tr>\n",
    "    <td><center><strong>all_tags</strong></center></td>\n",
    "    <td><center>利用<font color='red'>footer a</font>來判斷文章中含有哪些標籤，效果與categories相似</center></td>\n",
    "    <td><center>One Hot</center></td>\n",
    "</tr>\n",
    "</center>\n",
    "</table>"
   ]
  },
  {
   "cell_type": "markdown",
   "metadata": {},
   "source": [
    "## III. Model Tuning"
   ]
  },
  {
   "cell_type": "markdown",
   "metadata": {},
   "source": [
    "#### Logestic Regression\n",
    "<img src=\"log.png\" width=\"500\" height=\"500\"/>\n",
    "Logestic Regression 適合拿來做 <font color='red'>soft</font> 的 prediction。我嘗試了 C = 0.1, 10, 100, 1000，而當 C 等於 0.1 時表現最好，之後反而下降許多。"
   ]
  },
  {
   "cell_type": "markdown",
   "metadata": {},
   "source": [
    "#### Decision Tree\n",
    "<img src=\"decision.png\" width=\"500\" height=\"500\"/>\n",
    "Decision Tree 適合拿來做 <font color='red'>features-based</font> 的 prediction。隨著 tree depth 的增加，效果逐漸變好，但必須擔心 <font color='red'>overfitting</font> 的發生。"
   ]
  },
  {
   "cell_type": "markdown",
   "metadata": {},
   "source": [
    "#### Random Forest\n",
    "<img src=\"random.png\" width=\"500\" height=\"500\"/>\n",
    "Random Forest 較 Decision Tree 更加地 robust。這部分的 hyperparameter 為 tree 的數量 (n_estimators) ，隨著 n_estimators 的增加，效果有變好的趨勢，但必須擔心 <font color='red'>overfitting</font> 以及 <font color='red'>training time </font>過長的發生。"
   ]
  },
  {
   "cell_type": "markdown",
   "metadata": {},
   "source": [
    "#### GradientBoostingClassifier\n",
    "<img src=\"GBC.png\" width=\"500\" height=\"500\"/>\n",
    "GradientBoostingClassifier 採用 <font color='red'>Gradient Boosting for classification</font>，從圖中可以看出它對於分類問題的效果極佳。"
   ]
  },
  {
   "cell_type": "markdown",
   "metadata": {},
   "source": [
    "#### VotingClassifier\n",
    "<img src=\"voting.png\" width=\"1000\" height=\"1000\"/>\n",
    "利用 <font color='red'>RandomForestClassifier</font> 以及 <font color='red'>GradientBoostingClassifie</font> 作為 voting 的 estimators，並將 weights 設為 <font color='red'>1 : 2</font>，最終能達到最好的效果。"
   ]
  },
  {
   "cell_type": "markdown",
   "metadata": {},
   "source": [
    "## IV. Discussion"
   ]
  },
  {
   "cell_type": "markdown",
   "metadata": {},
   "source": [
    "#### More Tuning?\n",
    "一開始花了很多時間在做 features extraction，幾乎將所有能爬的 features 都爬遍了，然而起初的效果並不顯著，原以為是 features 的不足；然而，最後才發現試試不同的參數以及嘗試一些沒用過 classifier 甚至是 <font color='red'>ensemble </font>的技巧，效果能明顯地提升。"
   ]
  },
  {
   "cell_type": "markdown",
   "metadata": {},
   "source": [
    "#### Soft or Hard Prediction?\n",
    "這部分是我個人的疏忽，沒注意到預測結果允許 <font color='red'>soft prediction</font>，導致一開始的分數都與自己做 Cross Validation 的預期結果相差許多，經過調整成 <font color='red'>predict_proba</font> 之後，效果大幅提升。"
   ]
  }
 ],
 "metadata": {
  "anaconda-cloud": {},
  "kernelspec": {
   "display_name": "Python [conda root]",
   "language": "python",
   "name": "conda-root-py"
  },
  "language_info": {
   "codemirror_mode": {
    "name": "ipython",
    "version": 3
   },
   "file_extension": ".py",
   "mimetype": "text/x-python",
   "name": "python",
   "nbconvert_exporter": "python",
   "pygments_lexer": "ipython3",
   "version": "3.5.2"
  }
 },
 "nbformat": 4,
 "nbformat_minor": 1
}
